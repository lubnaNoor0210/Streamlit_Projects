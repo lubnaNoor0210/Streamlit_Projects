{
  "nbformat": 4,
  "nbformat_minor": 0,
  "metadata": {
    "colab": {
      "provenance": [],
      "authorship_tag": "ABX9TyMYyJyIWwyXOSMAlHx9ANol",
      "include_colab_link": true
    },
    "kernelspec": {
      "name": "python3",
      "display_name": "Python 3"
    },
    "language_info": {
      "name": "python"
    }
  },
  "cells": [
    {
      "cell_type": "markdown",
      "metadata": {
        "id": "view-in-github",
        "colab_type": "text"
      },
      "source": [
        "<a href=\"https://colab.research.google.com/github/lubnaNoor0210/Streamlit_Projects/blob/main/Untitled6.ipynb\" target=\"_parent\"><img src=\"https://colab.research.google.com/assets/colab-badge.svg\" alt=\"Open In Colab\"/></a>"
      ]
    },
    {
      "cell_type": "code",
      "execution_count": 1,
      "metadata": {
        "colab": {
          "base_uri": "https://localhost:8080/"
        },
        "id": "b--viUAexyg-",
        "outputId": "99aea7e0-e841-4b64-b5b3-3d6cbe07f655"
      },
      "outputs": [
        {
          "output_type": "stream",
          "name": "stdout",
          "text": [
            "Writing main.py\n"
          ]
        }
      ],
      "source": [
        "%%writefile main.py\n",
        "import streamlit as st\n",
        "st.markdown(\n",
        "    \"\"\"\n",
        "    <style>\n",
        "    .stApp {\n",
        "        background-color: #FFCCCC;\n",
        "    }\n",
        "    .stMarkdown {\n",
        "        color: darkblue;\n",
        "    }\n",
        "     .link-box {\n",
        "        background-color: #FFB6C1;  /* Light pink color */\n",
        "        padding: 10px;\n",
        "        margin: 10px;\n",
        "        border-radius: 5px;\n",
        "        box-shadow: 0 4px 8px rgba(0, 0, 0, 0.1);\n",
        "    }\n",
        "\n",
        "    .link-box a {\n",
        "        color: black;\n",
        "        font-weight: bold;\n",
        "        text-decoration: none;\n",
        "    }\n",
        "\n",
        "    .link-box a:hover {\n",
        "        text-decoration: underline;\n",
        "    }\n",
        "\n",
        "    </style>\n",
        "    \"\"\",\n",
        "    unsafe_allow_html=True\n",
        ")\n",
        "\n",
        "\n",
        "st.title(\"Welcome to My Website🖥️\")\n",
        "st.subheader(\"Welcome to my portfolio! I'm Lubna, a beginner web developer passionate about building dynamic applications. I'm still learning, but I'm excited to share my journey and projects with you.\"\n",
        ")\n",
        "\n",
        "st.markdown(\n",
        "    '<h2 style=\"font-weight: bold; font-size: 28px;\">Here are some of the projects I\\'ve created with Streamlit.⬇️</h2>',\n",
        "    unsafe_allow_html=True\n",
        ")\n",
        "st.markdown(\n",
        "    \"\"\"\n",
        "    <div class=\"link-box\">\n",
        "        <a href=\"https://appprojects-x3evu5wpymmo46yhc8ydve.streamlit.app/\" target=\"_blank\">Password Generator🔑</a>\n",
        "    </div>\n",
        "     <div class=\"link-box\">\n",
        "        <a href=\"https://password-strength-checker-wvfebnuvujzdh3qz4ajdjj.streamlit.app/\" target=\"_blank\">Password Strenth Checker🔐</a>\n",
        "    </div>\n",
        "     <div class=\"link-box\">\n",
        "        <a href=\"https://appprojects-dsunqgx2vpqor8cv3hwvmq.streamlit.app/\" target=\"_blank\">HangMan Game🎩</a>\n",
        "    </div>\n",
        "    <div class=\"link-box\">\n",
        "        <a href=\"https://appprojects-gg6tqrt7frpq5qnywwzce3.streamlit.app/\" target=\"_blank\">Rock Paper Scissor🪨🗞️✂️</a>\n",
        "    </div>\n",
        "   <div class=\"link-box\">\n",
        "        <a href=\"https://unit-converter-shcjadjeash3ni9bphajak.streamlit.app/\" target=\"_blank\">Unit Converter⌛</a>\n",
        "    </div>\n",
        "    \"\"\",\n",
        "    unsafe_allow_html=True\n",
        ")\n"
      ]
    }
  ]
}